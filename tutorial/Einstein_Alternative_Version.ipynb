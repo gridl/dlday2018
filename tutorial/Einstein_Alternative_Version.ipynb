{
  "nbformat": 4,
  "nbformat_minor": 0,
  "metadata": {
    "colab": {
      "name": "Einstein_Alternative_Version.ipynb",
      "version": "0.3.2",
      "provenance": [],
      "collapsed_sections": []
    },
    "kernelspec": {
      "name": "python3",
      "display_name": "Python 3"
    }
  },
  "cells": [
    {
      "metadata": {
        "id": "KBsIyrlX9Oq2",
        "colab_type": "text"
      },
      "cell_type": "markdown",
      "source": [
        "# An alternative solution \n",
        "\n",
        "This describes a more detailed but maybe not so performant solution to the function\n",
        "```get_prob_for_being_multiple_of_9``` in the tutorial (written by oliver).\n",
        "\n",
        "This notebook introduces you to the Einsteinsummation, which is a method to avoid nested loops and allows for more efficient computation via parallelization. "
      ]
    },
    {
      "metadata": {
        "id": "FXUG0BNdtjWV",
        "colab_type": "code",
        "colab": {}
      },
      "cell_type": "code",
      "source": [
        "import numpy as np\n",
        "import numpy\n",
        "import tensorflow as tf\n",
        "xrange = range\n",
        "tf.enable_eager_execution()"
      ],
      "execution_count": 0,
      "outputs": []
    },
    {
      "metadata": {
        "id": "ZjXLHyDVAWFU",
        "colab_type": "text"
      },
      "cell_type": "markdown",
      "source": [
        "Given below are the probabilities that 4 consequtive imput images belong to the respective classes. E.g.\n",
        "probability_by_digit_and_place[0,5,6,7,8] is probability that the first image is a 5, the second a 6,... the first index is the batch number."
      ]
    },
    {
      "metadata": {
        "id": "az0TN71H_bC_",
        "colab_type": "code",
        "colab": {}
      },
      "cell_type": "code",
      "source": [
        "# would read as '1008'.\n",
        "t_ddd_ex = tf.constant(numpy.array([\n",
        "    [ -1.0, 9.0, -1.0, -1.0, -1.0,  -1.0, -1.0, -1.0, -1.0, -1.0],\n",
        "    [ 9.0, -1.0, -1.0, -1.0, -1.0,  -1.0, -1.0, -1.0, -1.0, -1.0],\n",
        "    [ 9.0, -1.0, -1.0, -1.0, -1.0,  -1.0, -1.0, -1.0, -1.0, -1.0],\n",
        "    [-1.0,  -1.0, -1.0, -1.0, -1.0,  -1.0, -1.0, -1.0, 9.0, -1.0]],\n",
        "    dtype=numpy.float32))\n",
        "logs_with_batch = tf.reshape(t_ddd_ex, (1, 4, 10))\n",
        "probability_by_digit_and_place = tf.nn.softmax(logs_with_batch)\n",
        "probability_by_digit_and_place #\n",
        "p = probability_by_digit_and_place"
      ],
      "execution_count": 0,
      "outputs": []
    },
    {
      "metadata": {
        "id": "rbIeUjkjBFCV",
        "colab_type": "text"
      },
      "cell_type": "markdown",
      "source": [
        "Lets now try to find the probability that a given combination is present. We write p=probability_by_digit_and_place. With this notation p(0, 0, 3) is the probability that the first image is a 3. If we assume independance we get: \n",
        "\n",
        "```\n",
        "p(0, 0, X) * p(0, 1, M)  * p(0, 2, C)  * p(0, 3, I)\n",
        "```\n",
        "\n",
        "For the probability that the first image is X, the second is M, the third C and the forth is I.  \n",
        "\n",
        "\n",
        "### Total probability that the 4 images are a multiple of 9 \n",
        "To get the probability that the 4 images are a multiple of 9, we have to sum over all possible combinations of the digits, which are dividable by 9. Let's try it simple  first:"
      ]
    },
    {
      "metadata": {
        "id": "j3E7TSf-_uHJ",
        "colab_type": "code",
        "colab": {
          "base_uri": "https://localhost:8080/",
          "height": 34
        },
        "outputId": "7d5cc1a8-fa71-4a06-ae8d-0a6340f380b5"
      },
      "cell_type": "code",
      "source": [
        "#Numpy with loops and if\n",
        "def get_prob_for_being_multiple_of_9_np_with_if(p):\n",
        "  p0 = 0.0\n",
        "  for X in xrange(10):\n",
        "    for M in xrange(10):\n",
        "      for C in xrange(10):\n",
        "        for I in xrange(10):\n",
        "          k = (X + M + C + I) % 9\n",
        "          if (k == 0):\n",
        "            p0 = p0 + p[0,0,X] * p[0,1,M] * p[0,2,C] * p[0,3,I]\n",
        "  return p0\n",
        "print('Probability for the remainder to be k=0 (with if)', get_prob_for_being_multiple_of_9_np_with_if(probability_by_digit_and_place)) #"
      ],
      "execution_count": 0,
      "outputs": [
        {
          "output_type": "stream",
          "text": [
            "Probability for the remainder to be k=0 (with if) tf.Tensor(0.99845773, shape=(), dtype=float32)\n"
          ],
          "name": "stdout"
        }
      ]
    },
    {
      "metadata": {
        "id": "_h97qgTsJRYj",
        "colab_type": "text"
      },
      "cell_type": "markdown",
      "source": [
        "We don't want the if statement (you can't do 'if' on a GPU). Therefore we introduce an indicator variable, with is 0 if a given combination is not diviable by 9 and 1 otherwise."
      ]
    },
    {
      "metadata": {
        "id": "e00lmN8o2M1K",
        "colab_type": "code",
        "colab": {}
      },
      "cell_type": "code",
      "source": [
        "Ixmci = np.zeros([10, 10, 10, 10], dtype=np.float32)\n",
        "for X in xrange(10):\n",
        "  for M in xrange(10):\n",
        "    for C in xrange(10):\n",
        "      for I in xrange(10):\n",
        "        if (X + M + C + I) % 9 == 0:\n",
        "          Ixmci[X,M,C,I] = 1.0"
      ],
      "execution_count": 0,
      "outputs": []
    },
    {
      "metadata": {
        "id": "ztJF3z2U6ENc",
        "colab_type": "code",
        "colab": {
          "base_uri": "https://localhost:8080/",
          "height": 34
        },
        "outputId": "763052bf-ae0b-4103-9672-44e7a7890e12"
      },
      "cell_type": "code",
      "source": [
        "#Numpy with loops\n",
        "def get_prob_for_being_multiple_of_9_with_indicator(p):\n",
        "  p0 = 0\n",
        "  for X in xrange(10):\n",
        "    for M in xrange(10):\n",
        "      for C in xrange(10):\n",
        "        for I in xrange(10):\n",
        "          p0 = p0 + p[:,0,X] * p[:,1,M] * p[:,2,C] * p[:,3,I] * Ixmci[X,M,C,I]\n",
        "  return p0\n",
        "print('Probability for the remainder to be k=0 (w/o if)', get_prob_for_being_multiple_of_9_with_indicator(p)) #"
      ],
      "execution_count": 0,
      "outputs": [
        {
          "output_type": "stream",
          "text": [
            "Probability for the remainder to be k=0 (w/o if) tf.Tensor([0.99845773], shape=(1,), dtype=float32)\n"
          ],
          "name": "stdout"
        }
      ]
    },
    {
      "metadata": {
        "id": "LNBhL9HgsPso",
        "colab_type": "text"
      },
      "cell_type": "markdown",
      "source": [
        "### Translating the loops to sums\n",
        "\n",
        "Translating the 4 loops from above into a sum, we get for the probability that in a given batch $b$ the sum is dividable by 9 $P_b$\n",
        "\n",
        "$$\n",
        "    P_b = \\sum_x\\sum_m\\sum_c\\sum_i p_{bxmci} \\cdot I_{xmci}\n",
        "$$\n",
        "\n",
        "with the probability factorizing (as assumed above) we get\n",
        "$$\n",
        "  p_{bxmci} = p_{bx} \\cdot p_{bm} \\cdot p_{bc} \\cdot p_{bi}   \n",
        "$$\n",
        "\n",
        "and hence\n",
        "\n",
        "$$\n",
        "P_b = \\sum_x\\sum_m\\sum_c\\sum_i  p_{bx} \\cdot p_{bm} \\cdot p_{bc} \\cdot p_{bi} \\cdot  I_{xmci}\n",
        "$$\n",
        "\n",
        "### Enter Einstein\n",
        "$$\n",
        "P_b =I_{xmci}  p_{bxmci}  =  I_{xmci} \\cdot p_{bx} \\cdot p_{bm} \\cdot p_{bc} \\cdot p_{bi} \n",
        "$$\n",
        "\n",
        "To wrap up:\n",
        "\n",
        "We have a Tensor of order 4, with the indices xmci indicating if the 4 digits are dividable by 9 and another tensor with the index bxmci indicating the probability that the given 4 images xmci are present in the batch. If we do the sum, we get the probability $P_b$ for each of the 4 images in the batch.  \n"
      ]
    },
    {
      "metadata": {
        "id": "6ehCPz0huKLM",
        "colab_type": "code",
        "colab": {
          "base_uri": "https://localhost:8080/",
          "height": 34
        },
        "outputId": "1ffaf3fb-82c6-4e04-d5d3-b766c62f9175"
      },
      "cell_type": "code",
      "source": [
        "np.einsum('xmci,bx,bm,bc,bi->b',Ixmci,p[:,0],p[:,1],p[:,2],p[:,3])"
      ],
      "execution_count": 0,
      "outputs": [
        {
          "output_type": "execute_result",
          "data": {
            "text/plain": [
              "array([0.99845773], dtype=float32)"
            ]
          },
          "metadata": {
            "tags": []
          },
          "execution_count": 6
        }
      ]
    },
    {
      "metadata": {
        "id": "D9OmHhdU7lmI",
        "colab_type": "code",
        "colab": {
          "base_uri": "https://localhost:8080/",
          "height": 34
        },
        "outputId": "ebc754c7-77f9-40ea-eb5d-fd301dbde691"
      },
      "cell_type": "code",
      "source": [
        "np.einsum('bx,bm,bc,bi,xmci->b',p[:,0],p[:,1],p[:,2],p[:,3],Ixmci)"
      ],
      "execution_count": 0,
      "outputs": [
        {
          "output_type": "execute_result",
          "data": {
            "text/plain": [
              "array([0.99845773], dtype=float32)"
            ]
          },
          "metadata": {
            "tags": []
          },
          "execution_count": 7
        }
      ]
    },
    {
      "metadata": {
        "id": "-oEdc9hg0-u7",
        "colab_type": "code",
        "colab": {
          "base_uri": "https://localhost:8080/",
          "height": 34
        },
        "outputId": "2058c449-1cd4-457f-dabc-77ead261d96f"
      },
      "cell_type": "code",
      "source": [
        "tf.einsum('xmci,bx,bm,bc,bi->b',tf.constant(Ixmci),tf.constant(p[:,0]),tf.constant(p[:,1]),tf.constant(p[:,2]),tf.constant(p[:,3]))"
      ],
      "execution_count": 0,
      "outputs": [
        {
          "output_type": "execute_result",
          "data": {
            "text/plain": [
              "<tf.Tensor: id=242360, shape=(1,), dtype=float32, numpy=array([0.99845785], dtype=float32)>"
            ]
          },
          "metadata": {
            "tags": []
          },
          "execution_count": 8
        }
      ]
    },
    {
      "metadata": {
        "id": "MUq9DzP3_-Pn",
        "colab_type": "text"
      },
      "cell_type": "markdown",
      "source": [
        "###### Alternatively \n",
        "We are first producing a tensor of order 4"
      ]
    },
    {
      "metadata": {
        "id": "pT7X9I01-Mk_",
        "colab_type": "code",
        "colab": {
          "base_uri": "https://localhost:8080/",
          "height": 68
        },
        "outputId": "3d98dd7d-54da-4001-b207-5e24f5ac7c50"
      },
      "cell_type": "code",
      "source": [
        "p_ = tf.constant(p)\n",
        "pb1234_ = tf.einsum('bM,bC,bX,bI->bMCXI',\n",
        "                            p_[:, 0],\n",
        "                            p_[:, 1],\n",
        "                            p_[:, 2],\n",
        "                            p_[:, 3]\n",
        "                    )\n",
        "print(\"pb1234_\", tf.shape(pb1234_)) #B=1, 10,10\n",
        "\n",
        "Ixmci_ = tf.constant(Ixmci)\n",
        "print(tf.shape(pb1234_))\n",
        "tf.einsum('xmci,bxmci->b',Ixmci_,pb1234_)"
      ],
      "execution_count": 0,
      "outputs": [
        {
          "output_type": "stream",
          "text": [
            "pb1234_ tf.Tensor([ 1 10 10 10 10], shape=(5,), dtype=int32)\n",
            "tf.Tensor([ 1 10 10 10 10], shape=(5,), dtype=int32)\n"
          ],
          "name": "stdout"
        },
        {
          "output_type": "execute_result",
          "data": {
            "text/plain": [
              "<tf.Tensor: id=242430, shape=(1,), dtype=float32, numpy=array([0.9984578], dtype=float32)>"
            ]
          },
          "metadata": {
            "tags": []
          },
          "execution_count": 9
        }
      ]
    },
    {
      "metadata": {
        "id": "YP7u9ekRAwO1",
        "colab_type": "text"
      },
      "cell_type": "markdown",
      "source": [
        "### A replacement for the function as provided in the code"
      ]
    },
    {
      "metadata": {
        "id": "zlFuvBW-tg_A",
        "colab_type": "code",
        "colab": {}
      },
      "cell_type": "code",
      "source": [
        "Ixmci = numpy.zeros([10, 10, 10, 10], dtype=np.float32)\n",
        "for X in xrange(10):\n",
        "  for M in xrange(10):\n",
        "    for C in xrange(10):\n",
        "      for I in xrange(10):\n",
        "        if (X + M + C + I) % 9 == 0:\n",
        "          Ixmci[X,M,C,I] = 1.0\n",
        "\n",
        "Ixmci_ = tf.constant(Ixmci)\n",
        "\n",
        "def get_prob_for_being_multiple_of_9(logit_by_digit_and_place):\n",
        "  p = tf.nn.softmax(logit_by_digit_and_place)\n",
        "  return tf.einsum('xmci,bx,bm,bc,bi->b',Ixmci_,p[:,0],p[:,1],p[:,2],p[:,3])"
      ],
      "execution_count": 0,
      "outputs": []
    },
    {
      "metadata": {
        "id": "gw_BmTQ2LOGT",
        "colab_type": "code",
        "colab": {}
      },
      "cell_type": "code",
      "source": [
        ""
      ],
      "execution_count": 0,
      "outputs": []
    },
    {
      "metadata": {
        "id": "eXW28miRt_3L",
        "colab_type": "code",
        "colab": {
          "base_uri": "https://localhost:8080/",
          "height": 34
        },
        "outputId": "fe6f8ce0-9b08-42c4-8594-fbd681a23009"
      },
      "cell_type": "code",
      "source": [
        "# would read as '1008'.\n",
        "t_ddd_ex = tf.constant(numpy.array([\n",
        "    [ -1.0, 9.0, -1.0, -1.0, -1.0,  -1.0, -1.0, -1.0, -1.0, -1.0],\n",
        "    [ 9.0, -1.0, -1.0, -1.0, -1.0,  -1.0, -1.0, -1.0, -1.0, -1.0],\n",
        "    [ 9.0, -1.0, -1.0, -1.0, -1.0,  -1.0, -1.0, -1.0, -1.0, -1.0],\n",
        "    [-1.0,  -1.0, -1.0, -1.0, -1.0,  -1.0, -1.0, -1.0, 9.0, -1.0]],\n",
        "    dtype=numpy.float32))\n",
        "\n",
        "print('Probability',\n",
        "      get_prob_for_being_multiple_of_9(tf.reshape(t_ddd_ex, (1, 4, 10))))"
      ],
      "execution_count": 0,
      "outputs": [
        {
          "output_type": "stream",
          "text": [
            "Probability tf.Tensor([0.99845785], shape=(1,), dtype=float32)\n"
          ],
          "name": "stdout"
        }
      ]
    },
    {
      "metadata": {
        "id": "oxAH5vQoHCSO",
        "colab_type": "code",
        "colab": {}
      },
      "cell_type": "code",
      "source": [
        ""
      ],
      "execution_count": 0,
      "outputs": []
    }
  ]
}