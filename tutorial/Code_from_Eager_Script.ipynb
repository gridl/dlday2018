{
 "cells": [
  {
   "cell_type": "markdown",
   "metadata": {},
   "source": [
    "### Notebook for tf.eager()\n",
    "\n",
    "This notebook demonstrates the code in the lecture notes of Thomas Fischbacher on tf.eager()."
   ]
  },
  {
   "cell_type": "code",
   "execution_count": 1,
   "metadata": {
    "scrolled": true
   },
   "outputs": [
    {
     "name": "stdout",
     "output_type": "stream",
     "text": [
      "TF Version: 1.10.1\n",
      "TF-Eager mode is enabled.\n"
     ]
    }
   ],
   "source": [
    "import numpy\n",
    "import tensorflow as tf\n",
    "from __future__ import absolute_import, division, print_function\n",
    "\n",
    "print('TF Version:', tf.__version__)\n",
    "\n",
    "# Enabling eager mode for tensorflow.\n",
    "# This check makes running this cell (and hence enabling tf-eager)idempotent.\n",
    "try:\n",
    "  tf.enable_eager_execution()\n",
    "  print('TF-Eager mode is enabled.')\n",
    "except ValueError as exn:\n",
    "  if tf.executing_eagerly():\n",
    "    print('TF-Eager mode already was enabled.')\n",
    "  elif 'must be called at program startup' in exn.args[0]:\n",
    "    print ('Eager-Mode must be enabled at start-time.\\n'\n",
    "           'Please Restart the Runtime '\n",
    "           '([Runtime] -> [Restart Runtime] or Ctrl-M).')\n",
    "  else:\n",
    "    # Unknown situation, re-raise exception.\n",
    "    raise\n",
    "    \n",
    "tfe = tf.contrib.eager"
   ]
  },
  {
   "cell_type": "code",
   "execution_count": 2,
   "metadata": {},
   "outputs": [
    {
     "data": {
      "text/plain": [
       "<tf.Variable 'Variable:0' shape=(4,) dtype=int32, numpy=array([1, 2, 3, 4], dtype=int32)>"
      ]
     },
     "execution_count": 2,
     "metadata": {},
     "output_type": "execute_result"
    }
   ],
   "source": [
    "tfe.Variable([1,2,3,4]) #A tf.eager variable holds the values"
   ]
  },
  {
   "cell_type": "code",
   "execution_count": 3,
   "metadata": {},
   "outputs": [
    {
     "name": "stdout",
     "output_type": "stream",
     "text": [
      "100.0 100.0 100.0\n"
     ]
    }
   ],
   "source": [
    "## This function works when side_lengths is a sequence, a numpy array, \n",
    "## or a TensorFlow eager Variable\n",
    "def f4(side_lengths): \n",
    "    \n",
    "    #t_a,t_b,t_c,t_d = side_lengths # not working with tf.eager\n",
    "    t_a = side_lengths[0]\n",
    "    t_b = side_lengths[1]\n",
    "    t_c = side_lengths[2]\n",
    "    t_d = side_lengths[3]\n",
    "    \n",
    "    t_ab = t_a * t_b\n",
    "    t_cd = t_c * t_d\n",
    "    t_abc = t_ab * t_c\n",
    "    t_abd = t_ab * t_d\n",
    "    t_acd = t_a * t_cd\n",
    "    t_bcd = t_b * t_cd\n",
    "    t_s = t_abc + t_abd + t_acd + t_bcd \n",
    "    ret = 2.0 * t_s\n",
    "    return ret \n",
    "\n",
    "p0_list = [1.0, 2.0, 3.0, 4.0]\n",
    "p0 = tfe.Variable(p0_list)\n",
    "print(f4(p0_list), f4(numpy.asarray(p0_list)), f4(p0_list))"
   ]
  },
  {
   "cell_type": "code",
   "execution_count": 4,
   "metadata": {},
   "outputs": [
    {
     "name": "stdout",
     "output_type": "stream",
     "text": [
      "100.0 100.0 100.0\n"
     ]
    }
   ],
   "source": [
    "## More fancy, shorter alternative version\n",
    "def f4(abcd):\n",
    "    return 2.0 * sum(abcd[i] * abcd[j] * abcd[k] \n",
    "                     for (i, j, k) in [(0, 1, 2), (0, 1, 3),\n",
    "                                       (0, 2, 3), (1, 2, 3)])\n",
    "\n",
    "print(f4(p0_list), f4(numpy.asarray(p0_list)), f4(p0_list))"
   ]
  },
  {
   "cell_type": "code",
   "execution_count": 5,
   "metadata": {},
   "outputs": [],
   "source": [
    "with tf.GradientTape() as tape:\n",
    "    hypersurface = f4(p0)"
   ]
  },
  {
   "cell_type": "code",
   "execution_count": 6,
   "metadata": {},
   "outputs": [
    {
     "data": {
      "text/plain": [
       "[<tf.Tensor: id=137, shape=(4,), dtype=float32, numpy=array([52., 38., 28., 22.], dtype=float32)>]"
      ]
     },
     "execution_count": 6,
     "metadata": {},
     "output_type": "execute_result"
    }
   ],
   "source": [
    "gradients_at_p0 = tape.gradient(hypersurface, [p0])\n",
    "gradients_at_p0"
   ]
  },
  {
   "cell_type": "code",
   "execution_count": 7,
   "metadata": {},
   "outputs": [
    {
     "name": "stdout",
     "output_type": "stream",
     "text": [
      "Hypersurface: 100.0 Gradient: [52. 38. 28. 22.]\n"
     ]
    }
   ],
   "source": [
    "print('Hypersurface:', hypersurface.numpy(),\n",
    "      'Gradient:', gradients_at_p0[0].numpy())"
   ]
  },
  {
   "cell_type": "code",
   "execution_count": 8,
   "metadata": {},
   "outputs": [],
   "source": [
    "p1 = tfe.Variable([1.0, 3.0, 3.0, 4.0])"
   ]
  },
  {
   "cell_type": "code",
   "execution_count": 9,
   "metadata": {
    "scrolled": true
   },
   "outputs": [],
   "source": [
    "# tape.gradient(hypersurface, [p1]) #You can't use a tape twice\n",
    "# Will result in \n",
    "\n",
    "# \n",
    "# ---------------------------------------------------------------------------\n",
    "#RuntimeError                              Traceback (most recent call last)\n",
    "#<ipython-input-9-495be9fd48f9> in <module>()\n",
    "#----> 1 tape.gradient(hypersurface, [p1]) #You can't use a tape twice\n",
    "#\n",
    "#/usr/local/lib/python3.5/dist-packages/tensorflow/python/eager/backprop.py in gradient(self, target, sources, output_gradients)\n",
    "#    830     \"\"\"\n",
    "#    831     if self._tape is None:\n",
    "#--> 832       raise RuntimeError(\"GradientTape.gradient can only be called once on \"\n",
    "#    833                          \"non-persistent tapes.\")\n",
    "#    834     if self._recording:\n",
    "#\n",
    "#RuntimeError: GradientTape.gradient can only be called once on non-persistent tapes.\n",
    "#"
   ]
  },
  {
   "cell_type": "code",
   "execution_count": 10,
   "metadata": {},
   "outputs": [],
   "source": [
    "tape2 = tf.GradientTape()\n",
    "with tape2: #<-- here we record on the tape to calculate the grads later on\n",
    "    hypersurface1 = f4(p0)\n",
    "    hypersurface2 = f4(2 * p0)\n",
    "    total_hypersurface = hypersurface1 + hypersurface2\n",
    "    for i in range(10):\n",
    "        total_hypersurface += total_hypersurface\n",
    "\n",
    "#<--- here we can (still) access the tape "
   ]
  },
  {
   "cell_type": "code",
   "execution_count": 11,
   "metadata": {},
   "outputs": [
    {
     "data": {
      "text/plain": [
       "<tf.Tensor: id=402, shape=(4,), dtype=float32, numpy=array([479232., 350208., 258048., 202752.], dtype=float32)>"
      ]
     },
     "execution_count": 11,
     "metadata": {},
     "output_type": "execute_result"
    }
   ],
   "source": [
    "tape2.gradient(total_hypersurface, p0)"
   ]
  }
 ],
 "metadata": {
  "kernelspec": {
   "display_name": "Python 3",
   "language": "python",
   "name": "python3"
  },
  "language_info": {
   "codemirror_mode": {
    "name": "ipython",
    "version": 3
   },
   "file_extension": ".py",
   "mimetype": "text/x-python",
   "name": "python",
   "nbconvert_exporter": "python",
   "pygments_lexer": "ipython3",
   "version": "3.5.2"
  }
 },
 "nbformat": 4,
 "nbformat_minor": 2
}
