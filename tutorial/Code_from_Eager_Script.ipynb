{
 "cells": [
  {
   "cell_type": "markdown",
   "metadata": {},
   "source": [
    "### Notebook for tf.eager()"
   ]
  },
  {
   "cell_type": "code",
   "execution_count": 1,
   "metadata": {
    "scrolled": true
   },
   "outputs": [
    {
     "name": "stdout",
     "output_type": "stream",
     "text": [
      "TF Eager Execution is: Enabled\n"
     ]
    }
   ],
   "source": [
    "import numpy\n",
    "import tensorflow as tf\n",
    "tfe = tf.contrib.eager # Abbreviation. \n",
    "tf.enable_eager_execution()\n",
    "print('TF Eager Execution is:','Enabled' if tf.executing_eagerly() else 'Disabled')"
   ]
  },
  {
   "cell_type": "code",
   "execution_count": 2,
   "metadata": {},
   "outputs": [
    {
     "data": {
      "text/plain": [
       "<tf.Variable 'Variable:0' shape=(4,) dtype=int32, numpy=array([1, 2, 3, 4], dtype=int32)>"
      ]
     },
     "execution_count": 2,
     "metadata": {},
     "output_type": "execute_result"
    }
   ],
   "source": [
    "tfe.Variable([1,2,3,4])"
   ]
  },
  {
   "cell_type": "code",
   "execution_count": 9,
   "metadata": {},
   "outputs": [
    {
     "name": "stdout",
     "output_type": "stream",
     "text": [
      "100.0 100.0\n"
     ]
    },
    {
     "data": {
      "text/plain": [
       "100.0"
      ]
     },
     "execution_count": 9,
     "metadata": {},
     "output_type": "execute_result"
    }
   ],
   "source": [
    "## This works with side_lengths as a sequence and numpy array but not\n",
    "## With a TensorFlow eager Variable\n",
    "def f4(side_lengths): \n",
    "    \n",
    "    #t_a,t_b,t_c,t_d = side_lengths not working\n",
    "    \n",
    "    t_a = side_lengths[0]\n",
    "    t_b = side_lengths[1]\n",
    "    t_c = side_lengths[2]\n",
    "    t_d = side_lengths[3]\n",
    "    \n",
    "    t_ab = t_a * t_b\n",
    "    t_cd = t_c * t_d\n",
    "    t_abc = t_ab * t_c\n",
    "    t_abd = t_ab * t_d\n",
    "    t_acd = t_a * t_cd\n",
    "    t_bcd = t_b * t_cd\n",
    "    t_s = t_abc + t_abd + t_acd + t_bcd \n",
    "    ret = 2.0 * t_s\n",
    "    return ret \n",
    "print(f4([1.0, 2.0, 3.0, 4.0]), f4(numpy.array([1.0, 2.0, 3.0, 4.0])))\n",
    "p0 = tfe.Variable([1.0, 2.0, 3.0, 4.0])\n",
    "f4(p0).numpy()"
   ]
  },
  {
   "cell_type": "code",
   "execution_count": 4,
   "metadata": {},
   "outputs": [
    {
     "name": "stdout",
     "output_type": "stream",
     "text": [
      "100.0 100.0\n"
     ]
    },
    {
     "data": {
      "text/plain": [
       "<tf.Tensor: id=101, shape=(), dtype=float32, numpy=100.0>"
      ]
     },
     "execution_count": 4,
     "metadata": {},
     "output_type": "execute_result"
    }
   ],
   "source": [
    "## Alternative version\n",
    "def f4(abcd):\n",
    "    return 2.0 * sum(abcd[i] * abcd[j] * abcd[k] \n",
    "                     for (i, j, k) in [(0, 1, 2), (0, 1, 3),\n",
    "                                       (0, 2, 3), (1, 2, 3)])\n",
    "\n",
    "print(f4([1.0, 2.0, 3.0, 4.0]), f4(numpy.array([1.0, 2.0, 3.0, 4.0])))\n",
    "p0 = tfe.Variable([1.0, 2.0, 3.0, 4.0])\n",
    "f4(p0)"
   ]
  },
  {
   "cell_type": "code",
   "execution_count": 39,
   "metadata": {},
   "outputs": [],
   "source": [
    "with tf.GradientTape() as tape:\n",
    "    hypersurface = f4(p0)"
   ]
  },
  {
   "cell_type": "code",
   "execution_count": 40,
   "metadata": {},
   "outputs": [
    {
     "data": {
      "text/plain": [
       "[<tf.Tensor: id=934, shape=(4,), dtype=float32, numpy=array([52., 38., 28., 22.], dtype=float32)>]"
      ]
     },
     "execution_count": 40,
     "metadata": {},
     "output_type": "execute_result"
    }
   ],
   "source": [
    "gradients_at_p0 = tape.gradient(hypersurface, [p0])\n",
    "gradients_at_p0"
   ]
  },
  {
   "cell_type": "code",
   "execution_count": 41,
   "metadata": {},
   "outputs": [
    {
     "name": "stdout",
     "output_type": "stream",
     "text": [
      "Hypersurface: 100.0 Gradient: [52. 38. 28. 22.]\n"
     ]
    }
   ],
   "source": [
    "print('Hypersurface:', hypersurface.numpy(),\n",
    "      'Gradient:', gradients_at_p0[0].numpy())"
   ]
  },
  {
   "cell_type": "code",
   "execution_count": 42,
   "metadata": {},
   "outputs": [],
   "source": [
    "p1 = tfe.Variable([1.0, 3.0, 3.0, 4.0])"
   ]
  },
  {
   "cell_type": "code",
   "execution_count": 38,
   "metadata": {
    "scrolled": true
   },
   "outputs": [
    {
     "ename": "RuntimeError",
     "evalue": "GradientTape.gradient can only be called once on non-persistent tapes.",
     "output_type": "error",
     "traceback": [
      "\u001b[0;31m---------------------------------------------------------------------------\u001b[0m",
      "\u001b[0;31mRuntimeError\u001b[0m                              Traceback (most recent call last)",
      "\u001b[0;32m<ipython-input-38-6064707a93c2>\u001b[0m in \u001b[0;36m<module>\u001b[0;34m()\u001b[0m\n\u001b[0;32m----> 1\u001b[0;31m \u001b[0mtape\u001b[0m\u001b[0;34m.\u001b[0m\u001b[0mgradient\u001b[0m\u001b[0;34m(\u001b[0m\u001b[0mhypersurface\u001b[0m\u001b[0;34m,\u001b[0m \u001b[0;34m[\u001b[0m\u001b[0mp1\u001b[0m\u001b[0;34m]\u001b[0m\u001b[0;34m)\u001b[0m\u001b[0;34m\u001b[0m\u001b[0m\n\u001b[0m",
      "\u001b[0;32m/usr/local/lib/python3.5/dist-packages/tensorflow/python/eager/backprop.py\u001b[0m in \u001b[0;36mgradient\u001b[0;34m(self, target, sources, output_gradients)\u001b[0m\n\u001b[1;32m    830\u001b[0m     \"\"\"\n\u001b[1;32m    831\u001b[0m     \u001b[0;32mif\u001b[0m \u001b[0mself\u001b[0m\u001b[0;34m.\u001b[0m\u001b[0m_tape\u001b[0m \u001b[0;32mis\u001b[0m \u001b[0;32mNone\u001b[0m\u001b[0;34m:\u001b[0m\u001b[0;34m\u001b[0m\u001b[0m\n\u001b[0;32m--> 832\u001b[0;31m       raise RuntimeError(\"GradientTape.gradient can only be called once on \"\n\u001b[0m\u001b[1;32m    833\u001b[0m                          \"non-persistent tapes.\")\n\u001b[1;32m    834\u001b[0m     \u001b[0;32mif\u001b[0m \u001b[0mself\u001b[0m\u001b[0;34m.\u001b[0m\u001b[0m_recording\u001b[0m\u001b[0;34m:\u001b[0m\u001b[0;34m\u001b[0m\u001b[0m\n",
      "\u001b[0;31mRuntimeError\u001b[0m: GradientTape.gradient can only be called once on non-persistent tapes."
     ]
    }
   ],
   "source": [
    "tape.gradient(hypersurface, [p1])"
   ]
  },
  {
   "cell_type": "code",
   "execution_count": 50,
   "metadata": {},
   "outputs": [],
   "source": [
    "tape2 = tf.GradientTape()\n",
    "with tape2: #<-- here we record on the tape\n",
    "    hypersurface1 = f4(p0)\n",
    "    hypersurface2 = f4(2 * p0)\n",
    "    total_hypersurface = hypersurface1 + hypersurface2\n",
    "    for i in range(10):\n",
    "        total_hypersurface += total_hypersurface\n",
    "\n",
    "#<--- here we can access the tape "
   ]
  },
  {
   "cell_type": "code",
   "execution_count": 51,
   "metadata": {},
   "outputs": [
    {
     "data": {
      "text/plain": [
       "<tf.Tensor: id=1901, shape=(4,), dtype=float32, numpy=array([479232., 350208., 258048., 202752.], dtype=float32)>"
      ]
     },
     "execution_count": 51,
     "metadata": {},
     "output_type": "execute_result"
    }
   ],
   "source": [
    "tape2.gradient(total_hypersurface, p0) #468., 342., 252., 198"
   ]
  }
 ],
 "metadata": {
  "kernelspec": {
   "display_name": "Python 3",
   "language": "python",
   "name": "python3"
  },
  "language_info": {
   "codemirror_mode": {
    "name": "ipython",
    "version": 3
   },
   "file_extension": ".py",
   "mimetype": "text/x-python",
   "name": "python",
   "nbconvert_exporter": "python",
   "pygments_lexer": "ipython3",
   "version": "3.5.2"
  }
 },
 "nbformat": 4,
 "nbformat_minor": 2
}
